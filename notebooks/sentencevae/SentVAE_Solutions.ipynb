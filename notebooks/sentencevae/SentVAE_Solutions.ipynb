{
 "cells": [
  {
   "cell_type": "markdown",
   "metadata": {
    "colab_type": "text",
    "id": "view-in-github"
   },
   "source": [
    "<a href=\"https://colab.research.google.com/github/probabll/dgm4nlp/blob/solutions/notebooks/sentencevae/SentVAE_Solutions.ipynb\" target=\"_parent\"><img src=\"https://colab.research.google.com/assets/colab-badge.svg\" alt=\"Open In Colab\"/></a>"
   ]
  },
  {
   "cell_type": "code",
   "execution_count": 1,
   "metadata": {
    "colab": {},
    "colab_type": "code",
    "id": "AcYW7MDKScQ6"
   },
   "outputs": [],
   "source": [
    "%matplotlib inline\n",
    "\n",
    "import os\n",
    "import re\n",
    "import urllib.request\n",
    "import numpy as np\n",
    "import torch\n",
    "import torch.nn as nn\n",
    "import torch.nn.functional as F\n",
    "import torch.optim as optim\n",
    "import matplotlib.pyplot as plt\n",
    "\n",
    "from torch.utils.data import Dataset, DataLoader\n",
    "from torch.nn.utils.rnn import pack_padded_sequence, pad_packed_sequence"
   ]
  },
  {
   "cell_type": "markdown",
   "metadata": {
    "colab_type": "text",
    "id": "pMktCZC3Vwyg"
   },
   "source": [
    "In this notebook you will work with a deep generative language model that maps sentences from a continuous latent space. We will use text data in English and pytorch. \n",
    "\n",
    "The first section concerns data manipulation and data loading classes necessary for our implementation. You do not need to modify anything in this part of the code, but it is useful to read through as it might illustrate some good practices."
   ]
  },
  {
   "cell_type": "markdown",
   "metadata": {
    "colab_type": "text",
    "id": "ca_L1zfDScRC"
   },
   "source": [
    "Let's first download the Penn Treebank dataset that we will be using for this notebook: these are the sentences in the PTB English corpus."
   ]
  },
  {
   "cell_type": "code",
   "execution_count": 2,
   "metadata": {
    "colab": {},
    "colab_type": "code",
    "id": "pYl0oQJVScRE"
   },
   "outputs": [
    {
     "name": "stdout",
     "output_type": "stream",
     "text": [
      "Downloading data files...\n",
      "Download complete.\n"
     ]
    }
   ],
   "source": [
    "url = \"https://raw.githubusercontent.com/jhcross/span-parser/master/data/\"\n",
    "train_file = \"02-21.10way.clean\"\n",
    "val_file = \"22.auto.clean\"\n",
    "test_file = \"23.auto.clean\"\n",
    "\n",
    "print(\"Downloading data files...\")\n",
    "if not os.path.isfile(train_file):\n",
    "    urllib.request.urlretrieve(url + train_file, filename=train_file)\n",
    "if not os.path.isfile(val_file):\n",
    "    urllib.request.urlretrieve(url + val_file, filename=val_file)\n",
    "if not os.path.isfile(test_file):\n",
    "    urllib.request.urlretrieve(url + test_file, filename=test_file)\n",
    "print(\"Download complete.\")"
   ]
  },
  {
   "cell_type": "markdown",
   "metadata": {
    "colab_type": "text",
    "id": "oPlLBwayScRN"
   },
   "source": [
    "# Data\n",
    "\n",
    "In order to work with text data, we need to transform the text into something that our algorithms can work with. The first step of this process is converting words into word ids. We do this by constructing a vocabulary from the data, assigning a new word id to each new word it encounters."
   ]
  },
  {
   "cell_type": "code",
   "execution_count": 3,
   "metadata": {
    "colab": {},
    "colab_type": "code",
    "id": "S4wtwvwaScRP"
   },
   "outputs": [],
   "source": [
    "UNK_TOKEN = \"<unk>\"\n",
    "PAD_TOKEN = \"<pad>\"\n",
    "SOS_TOKEN = \"<s>\"\n",
    "EOS_TOKEN = \"</s>\"\n",
    "\n",
    "\n",
    "def tokens_from_treestring(s):\n",
    "    \"\"\"\n",
    "    Removes the parse trees in the PTB dataset.\n",
    "    \"\"\"\n",
    "    return \" \".join(re.findall(r\"\\([A-Z]* ([^\\(\\)]+)\\)\", s))\n",
    "\n",
    "\n",
    "class Vocabulary:\n",
    "    \n",
    "    def __init__(self):\n",
    "        self.idx_to_word = {0: UNK_TOKEN, 1: PAD_TOKEN, 2: SOS_TOKEN, 3: EOS_TOKEN}\n",
    "        self.word_to_idx = {UNK_TOKEN: 0, PAD_TOKEN: 1, SOS_TOKEN: 2, EOS_TOKEN: 3}\n",
    "        self.word_freqs = {}\n",
    "    \n",
    "    def __getitem__(self, key):\n",
    "        return self.word_to_idx[key] if key in self.word_to_idx else self.word_to_idx[UNK_TOKEN]\n",
    "    \n",
    "    def word(self, idx):\n",
    "        return self.idx_to_word[idx]\n",
    "    \n",
    "    def size(self):\n",
    "        return len(self.word_to_idx)\n",
    "    \n",
    "    @staticmethod\n",
    "    def from_data(filenames):\n",
    "        \"\"\"\n",
    "            Creates a vocabulary from a list of data files. It assumes that the data files have been\n",
    "            tokenized and pre-processed beforehand.\n",
    "        \"\"\"\n",
    "        vocab = Vocabulary()\n",
    "        for filename in filenames:\n",
    "            with open(filename) as f:\n",
    "                for line in f:\n",
    "                    \n",
    "                    # Strip whitespace and the newline symbol.\n",
    "                    line = tokens_from_treestring(line.strip())\n",
    "                    \n",
    "                    # Split the sentences into words and assign word ids to each\n",
    "                    # new word it encounters.\n",
    "                    for word in line.split():\n",
    "                        if word not in vocab.word_to_idx:\n",
    "                            idx = len(vocab.word_to_idx)\n",
    "                            vocab.word_to_idx[word] = idx\n",
    "                            vocab.idx_to_word[idx] = word\n",
    "                            \n",
    "        return vocab"
   ]
  },
  {
   "cell_type": "code",
   "execution_count": 4,
   "metadata": {
    "colab": {},
    "colab_type": "code",
    "id": "5yGmXEQ2TQSJ"
   },
   "outputs": [
    {
     "name": "stdout",
     "output_type": "stream",
     "text": [
      "Constructing vocabulary...\n",
      "Constructed a vocabulary of 45233 word types\n"
     ]
    }
   ],
   "source": [
    "# Construct a vocabulary from the training and validation data.\n",
    "print(\"Constructing vocabulary...\")\n",
    "vocab = Vocabulary.from_data([train_file, val_file])\n",
    "print(\"Constructed a vocabulary of %d word types\" % vocab.size())"
   ]
  },
  {
   "cell_type": "code",
   "execution_count": 5,
   "metadata": {
    "colab": {},
    "colab_type": "code",
    "id": "jLP1Yy2_TtzR"
   },
   "outputs": [
    {
     "name": "stdout",
     "output_type": "stream",
     "text": [
      "the 20\n",
      "the 630\n",
      "VAE 0\n"
     ]
    }
   ],
   "source": [
    "# some examples\n",
    "print('the', vocab['the'])\n",
    "print('the', vocab['thing'])\n",
    "print('VAE', vocab['VAE'])  # something UNKNOWN"
   ]
  },
  {
   "cell_type": "markdown",
   "metadata": {
    "colab_type": "text",
    "id": "0Wwdq1DtScRX"
   },
   "source": [
    "We also need to load the data files into memory. We create a simple class `TextDataset` that stores the data as a list of sentences:"
   ]
  },
  {
   "cell_type": "code",
   "execution_count": 6,
   "metadata": {
    "colab": {},
    "colab_type": "code",
    "id": "JYC5fXfIScRa"
   },
   "outputs": [],
   "source": [
    "class TextDataset(Dataset):\n",
    "    \"\"\"\n",
    "        A simple class that loads a list of sentences into memory from a text file,\n",
    "        split by newlines. This does not do any memory optimisation, \n",
    "        so if your dataset is very large, you might want to use an alternative \n",
    "        class.\n",
    "    \"\"\"\n",
    "    \n",
    "    def __init__(self, text_file, max_len=30):\n",
    "        self.data = []\n",
    "        with open(text_file) as f:\n",
    "            for line in f:\n",
    "                sentence = tokens_from_treestring(line.strip())\n",
    "                if len(sentence.split()) <= max_len:\n",
    "                    self.data.append(sentence)\n",
    "        \n",
    "    def __len__(self):\n",
    "        return len(self.data)\n",
    "    \n",
    "    def __getitem__(self, idx):\n",
    "        return self.data[idx]"
   ]
  },
  {
   "cell_type": "code",
   "execution_count": 7,
   "metadata": {
    "colab": {},
    "colab_type": "code",
    "id": "SehavEDQTfIe"
   },
   "outputs": [
    {
     "name": "stdout",
     "output_type": "stream",
     "text": [
      "Sample from training data: \"In stock-index arbitrage traders buy or sell big baskets of stocks against offsetting positions in futures\"\n",
      "Sample from validation data: \"Whirpool said We see this process as a small but important step toward eventual elimination of CFC use in appliance manufacture\"\n",
      "Sample from test data: \"Producers of commodity chemicals the basic chemicals produced in huge volumes for other manufacturers have seen sharp inventory cutting by buyers\"\n"
     ]
    }
   ],
   "source": [
    "# Load the training, validation, and test datasets into memory.\n",
    "train_dataset = TextDataset(train_file)\n",
    "val_dataset = TextDataset(val_file)\n",
    "test_dataset = TextDataset(test_file)\n",
    "\n",
    "# Print some samples from the data:\n",
    "print(\"Sample from training data: \\\"%s\\\"\" % train_dataset[np.random.choice(len(train_dataset))])\n",
    "print(\"Sample from validation data: \\\"%s\\\"\" % val_dataset[np.random.choice(len(val_dataset))])\n",
    "print(\"Sample from test data: \\\"%s\\\"\" % test_dataset[np.random.choice(len(test_dataset))])"
   ]
  },
  {
   "cell_type": "markdown",
   "metadata": {
    "colab_type": "text",
    "id": "PNQ1TG-3ScRh"
   },
   "source": [
    "Now it's time to write a function that converts a sentence into a list of word ids using the vocabulary we created before. This function is `create_batch` in the code cell below. This function creates a batch from a list of sentences, and makes sure that each sentence starts with a start-of-sentence symbol and ends with an end-of-sentence symbol. Because not all sentences are of equal length in a certain batch, sentences are padded with padding symbols so that they match the length of the largest sentence in the batch. The function returns an input batch, an output batch, a mask of 1s for words and 0s for padding symbols, and the sequence lengths of each sentence in the batch. The output batch is shifted by one word, to reflect the predictions that the model is expected to make. For example, for a sentence\n",
    "\\begin{align}\n",
    "    \\text{The dog runs .}\n",
    "\\end{align}\n",
    "the input sequence is\n",
    "\\begin{align}\n",
    "    \\text{SOS The dog runs .}\n",
    "\\end{align}\n",
    "and the output sequence is\n",
    "\\begin{align}\n",
    "    \\text{The dog runs . EOS}\n",
    "\\end{align}\n",
    "\n",
    "You can see the output is shifted wrt the input, that's because we will be computing a distribution for the next word in context of its prefix, and that's why we need to shift the sequence this way.\n",
    "\n",
    "\n",
    "Lastly, we create an inverse function `batch_to_sentences` that recovers the list of sentences from a padded batch of word ids to use during test time."
   ]
  },
  {
   "cell_type": "code",
   "execution_count": 8,
   "metadata": {
    "colab": {},
    "colab_type": "code",
    "id": "GcYfsIaBScRj"
   },
   "outputs": [],
   "source": [
    "def create_batch(sentences, vocab, device, word_dropout=0.):\n",
    "    \"\"\"\n",
    "    Converts a list of sentences to a padded batch of word ids. Returns\n",
    "    an input batch, an output batch shifted by one, a sequence mask over\n",
    "    the input batch, and a tensor containing the sequence length of each\n",
    "    batch element.\n",
    "    :param sentences: a list of sentences, each a list of token ids\n",
    "    :param vocab: a Vocabulary object for this dataset\n",
    "    :param device: \n",
    "    :param word_dropout: rate at which we omit words from the context (input)\n",
    "    :returns: a batch of padded inputs, a batch of padded outputs, mask, lengths\n",
    "    \"\"\"\n",
    "    tok = np.array([[SOS_TOKEN] + sen.split() + [EOS_TOKEN] for sen in sentences])\n",
    "    seq_lengths = [len(sen)-1 for sen in tok]\n",
    "    max_len = max(seq_lengths)\n",
    "    pad_id = vocab[PAD_TOKEN]\n",
    "    pad_id_input = [\n",
    "        [vocab[sen[t]] if t < seq_lengths[idx] else pad_id for t in range(max_len)]\n",
    "            for idx, sen in enumerate(tok)]\n",
    "    \n",
    "    # Replace words of the input with <unk> with p = word_dropout.\n",
    "    if word_dropout > 0.:\n",
    "        unk_id = vocab[UNK_TOKEN]\n",
    "        word_drop =  [\n",
    "            [unk_id if (np.random.random() < word_dropout and t < seq_lengths[idx]) else word_ids[t] for t in range(max_len)] \n",
    "                for idx, word_ids in enumerate(pad_id_input)]\n",
    "    \n",
    "    # The output batch is shifted by 1.\n",
    "    pad_id_output = [\n",
    "        [vocab[sen[t+1]] if t < seq_lengths[idx] else pad_id for t in range(max_len)]\n",
    "            for idx, sen in enumerate(tok)]\n",
    "    \n",
    "    # Convert everything to PyTorch tensors.\n",
    "    batch_input = torch.tensor(pad_id_input)\n",
    "    batch_output = torch.tensor(pad_id_output)\n",
    "    seq_mask = (batch_input != vocab[PAD_TOKEN])\n",
    "    seq_length = torch.tensor(seq_lengths)\n",
    "    \n",
    "    # Move all tensors to the given device.\n",
    "    batch_input = batch_input.to(device)\n",
    "    batch_output = batch_output.to(device)\n",
    "    seq_mask = seq_mask.to(device)\n",
    "    seq_length = seq_length.to(device)\n",
    "    \n",
    "    return batch_input, batch_output, seq_mask, seq_length\n",
    "\n",
    "\n",
    "def batch_to_sentences(tensors, vocab: Vocabulary):\n",
    "    \"\"\"\n",
    "    Converts a batch of word ids back to sentences.\n",
    "    :param tensors: [B, T] word ids\n",
    "    :param vocab: a Vocabulary object for this dataset\n",
    "    :returns: an array of strings (each a sentence).\n",
    "    \"\"\"\n",
    "    sentences = []\n",
    "    batch_size = tensors.size(0)\n",
    "    for idx in range(batch_size):\n",
    "        sentence = [vocab.word(t.item()) for t in tensors[idx,:]]\n",
    "        \n",
    "        # Filter out the start-of-sentence and padding tokens.\n",
    "        sentence = list(filter(lambda t: t != PAD_TOKEN and t != SOS_TOKEN, sentence))\n",
    "        \n",
    "        # Remove the end-of-sentence token and all tokens following it.\n",
    "        if EOS_TOKEN in sentence:\n",
    "            sentence = sentence[:sentence.index(EOS_TOKEN)]\n",
    "            \n",
    "        sentences.append(\" \".join(sentence))\n",
    "    return np.array(sentences)"
   ]
  },
  {
   "cell_type": "markdown",
   "metadata": {
    "colab_type": "text",
    "id": "l7R5_4wwScRq"
   },
   "source": [
    "In PyTorch the RNN functions expect inputs to be sorted from long sentences to shorter ones. Therefore we create a simple wrapper class for the DataLoader class that sorts sentences from long to short:  "
   ]
  },
  {
   "cell_type": "code",
   "execution_count": 9,
   "metadata": {
    "colab": {},
    "colab_type": "code",
    "id": "Xjtwes5iScRs"
   },
   "outputs": [],
   "source": [
    "class SortingTextDataLoader:\n",
    "    \"\"\"\n",
    "    A wrapper for the DataLoader class that sorts a list of sentences by their\n",
    "    lengths in descending order.\n",
    "    \"\"\"\n",
    "\n",
    "    def __init__(self, dataloader):\n",
    "        self.dataloader = dataloader\n",
    "        self.it = iter(dataloader)\n",
    "    \n",
    "    def __iter__(self):\n",
    "        return self\n",
    "    \n",
    "    def __next__(self):\n",
    "        sentences = None\n",
    "        for s in self.it:\n",
    "            sentences = s\n",
    "            break\n",
    "\n",
    "        if sentences is None:\n",
    "            self.it = iter(self.dataloader)\n",
    "            raise StopIteration\n",
    "        \n",
    "        sentences = np.array(sentences)\n",
    "        sort_keys = sorted(range(len(sentences)), \n",
    "                           key=lambda idx: len(sentences[idx].split()), \n",
    "                           reverse=True)\n",
    "        sorted_sentences = sentences[sort_keys]\n",
    "        return sorted_sentences"
   ]
  },
  {
   "cell_type": "markdown",
   "metadata": {
    "colab_type": "text",
    "id": "bkrOx_-NScRw"
   },
   "source": [
    "# Model\n",
    "\n",
    "## Deterministic language model\n",
    "\n",
    "In language modelling, we model a sentence $x = \\langle x_1, \\ldots, x_n \\rangle$  of length $n = |x|$ as a sequence of categorical draws:\n",
    "\n",
    "\\begin{align}\n",
    "X_i|x_{<i} & \\sim \\text{Cat}(f(x_{<i}; \\theta)) \n",
    "& i = 1, \\ldots, n \\\\\n",
    "\\end{align}\n",
    "\n",
    "where we use $x_{<i}$ to denote a (possibly empty) prefix string, and thus the model makes no Markov assumption. We map from the conditioning context, the prefix $x_{<i}$, to the categorical parameters (a $v$-dimensional probability vector, where $v$ denotes the size of the vocabulary of the language) using a fixed neural network architecture whose parameters we collectively denote by $\\theta$.\n",
    "\n",
    "This assigns the following likelihood to the sentence\n",
    "\\begin{align}\n",
    "    P(x|\\theta) &= \\prod_{i=1}^n P(x_i|x_{<i}, \\theta) \\\\\n",
    "    &= \\prod_{i=1}^n \\text{Cat}(x_i|f(x_{<i}; \\theta))  \n",
    "\\end{align}\n",
    "where the categorical pmf is $\\text{Cat}(k|\\pi) = \\prod_{j=1}^v \\pi_j^{[k=j]} = \\pi_k$. \n",
    "\n",
    "\n",
    "Suppose we have a dataset $\\mathcal D = \\{x^{(1)}, \\ldots, x^{(N)}\\}$ containing $N$ i.i.d. observations. Then we can use the log-likelihood function \n",
    "\\begin{align}\n",
    "\\mathcal L(\\theta|\\mathcal D) &= \\sum_{k=1}^{N} \\log P(x^{(k)}| \\theta) \\\\\n",
    "&= \\sum_{k=1}^{N} \\sum_{i=1}^{|x^{(k)}|} \\log \\text{Cat}(x^{(k)}_i|f(x^{(k)}_{<i}; \\theta))\n",
    "\\end{align}\n",
    " to estimate $\\theta$ by maximisation:\n",
    " \\begin{align}\n",
    " \\theta^\\star = \\arg\\max_{\\theta \\in \\Theta} \\mathcal L(\\theta|\\mathcal D) ~ .\n",
    " \\end{align}\n",
    " \n",
    "\n",
    "We can use stochastic gradient-ascent to find a local optimum of $\\mathcal L(\\theta|\\mathcal D)$, which only requires a gradient estimate:\n",
    "\n",
    "\\begin{align}\n",
    "\\nabla_\\theta \\mathcal L(\\theta|\\mathcal D) &= \\sum_{k=1}^{|\\mathcal D|} \\nabla_\\theta  \\log P(x^{(k)}|\\theta) \\\\ \n",
    "&= \\sum_{k=1}^{|\\mathcal D|} \\frac{1}{N} N \\nabla_\\theta  \\log P(x^{(k)}| \\theta)  \\\\\n",
    "&= \\mathbb E_{\\mathcal U(1/N)} \\left[ N \\nabla_\\theta  \\log P(x^{(K)}| \\theta) \\right]  \\\\\n",
    "&\\overset{\\text{MC}}{\\approx} \\frac{N}{M} \\sum_{m=1}^M \\nabla_\\theta  \\log P(x^{(k_m)}|\\theta) \\\\\n",
    "&\\text{where }K_m \\sim \\mathcal U(1/N)\n",
    "\\end{align}\n",
    "\n",
    "This is a Monte Carlo (MC) estimate of the gradient computed on $M$ data points selected uniformly at random from $\\mathcal D$.\n",
    "\n",
    "For as long as $f$ remains differentiable wrt to its inputs and parameters, we can rely on automatic differentiation to obtain gradient estimates.\n",
    "\n",
    "\n",
    "An example design for $f$ is:\n",
    "\\begin{align}\n",
    "\\mathbf x_i &= \\text{emb}(x_i; \\theta_{\\text{emb}}) \\\\\n",
    "\\mathbf h_0 &\\in \\theta_{\\text{rnn}} \\\\\n",
    "\\mathbf h_i &= \\text{rnn}(\\mathbf h_{i-1}, \\mathbf x_{i-1}; \\theta_{\\text{rnn}}) \\\\\n",
    "f(x_{<i}; \\theta) &= \\text{softmax}(\\text{dense}_v(\\mathbf h_{i};  \\theta_{\\text{out}}))\n",
    "\\end{align}\n",
    "where \n",
    "* $\\text{emb}$ is a fixed embedding layer with parameters $\\theta_{\\text{emb}}$;\n",
    "* $\\text{rnn}$ is a recurrent architecture with parameters $\\theta_{\\text{rnn}}$, e.g. an LSTM or GRU, and $\\mathbf h_0$ is part of the architecture's parameters;\n",
    "* $\\text{dense}_v$ is a dense layer with $v$ outputs (vocabulary size) and parameters $\\theta_{\\text{out}}$.\n",
    "\n",
    "\n",
    "\n",
    "In what follows we show how to extend this model with a continuous latent sentence embedding."
   ]
  },
  {
   "cell_type": "markdown",
   "metadata": {
    "colab_type": "text",
    "id": "xhO8rD2DYuar"
   },
   "source": [
    "## Deep generative language model\n",
    "\n",
    "We want to model a sentence $x$ as a draw from the marginal of deep generative model $p(z, x|\\theta) = p(z)P(x|z, \\theta)$. Note that we use $p(\\cdot)$ for pdfs and $P(\\cdot)$ for pmfs.\n",
    "\n",
    "\n",
    "### Generative model\n",
    "\n",
    "The generative story is:\n",
    "\\begin{align}\n",
    "    Z & \\sim \\mathcal N(0, I) \\\\\n",
    "    X_i | z, x_{<i} &\\sim \\text{Cat}(f(z, x_{<i}; \\theta)) & i=1, \\ldots, n\n",
    "\\end{align}\n",
    "where $z \\in \\mathbb R^D$ and  we impose a standard Gaussian prior on latent space. Other choices of prior can induce interesting properties in latent space, however, in this notebook, we use the Gaussian for its simplicity.\n",
    "\n",
    "It is easy to design $f$ by a simple modification of the deterministic design shown before:\n",
    "\\begin{align}\n",
    "\\mathbf x_i &= \\text{emb}(x_i; \\theta_{\\text{emb}}) \\\\\n",
    "\\mathbf h_0 &= \\tanh(\\text{dense}(z; \\theta_{\\text{init}})) \\\\\n",
    "\\mathbf h_i &= \\text{rnn}(\\mathbf h_{i-1}, \\mathbf x_{i-1}; \\theta_{\\text{rnn}}) \\\\\n",
    "f(x_{<i}; \\theta) &= \\text{softmax}(\\text{dense}_v(\\mathbf h_{i};  \\theta_{\\text{out}}))\n",
    "\\end{align}\n",
    "where we just initialise the recurrent cell using $z$. Note we could also use $z$ in other places, for example, as additional input to every update of the recurrent cell $\\mathbf h_i = \\text{rnn}(\\mathbf h_{i-1}, [\\mathbf x_{i-1}, z])$. This is an architecture choice which like many others can only be judged empirically or on the basis of practical convenience.\n",
    "\n"
   ]
  },
  {
   "cell_type": "markdown",
   "metadata": {
    "colab_type": "text",
    "id": "YwB7igyXg8uU"
   },
   "source": [
    "### Parameter estimation\n",
    "\n",
    "The marginal likelihood, necessary for parameter estimation, is now no longer tractable:\n",
    "\\begin{align}\n",
    "P(x|\\theta) &= \\int p(z)P(x|z, \\theta) \\text{d}z \\\\\n",
    "&= \\int \\mathcal N(z|0, I)\\prod_{i=1}^n \\text{Cat}(x_i|f(z,x_{<i}; \\theta) )\\text{d}z \n",
    "\\end{align}\n",
    "the intractability is clear as even if $f$ would be linear (recall it isn't) the Gaussian and the Categorical are not conjugate and the integration has no closed-form solution.\n",
    "\n",
    "We turn to variational inference and derive a lowerbound $\\mathcal E(\\theta, \\lambda|\\mathcal D)$ on the log-likelihood function\n",
    "\n",
    "\\begin{align}\n",
    "    \\mathcal E(\\theta, \\lambda|\\mathcal D) &= \\sum_{k=1}^{|\\mathcal D|} \\mathcal E_k(\\theta, \\lambda|x^{(k)}) \n",
    "\\end{align}\n",
    "\n",
    "which for a single datapoint $x$ is\n",
    "\\begin{align}\n",
    "    \\mathcal E(\\theta, \\lambda|x) &= \\mathbb{E}_{q(z|x)}\\left[\\log P(x|z, \\theta)\\right] - \\text{KL}\\left(q(z|x, \\lambda)||p(z)\\right)\\\\\n",
    "\\end{align}\n",
    "where we have introduce an independently parameterised auxiliary distribution $q(z|x, \\lambda)$. The distribution $q$ which maximises this *evidence lowerbound* (ELBO) is also the distribution that minimises \n",
    "\\begin{align}\n",
    "\\text{KL}(q(z|x, \\lambda)||p(z|x, \\theta)) = \\mathbb E_{q(z|x, \\lambda)}\\left[ \\frac{q(z|x, \\lambda)}{p(z|x, \\theta)}\\right]\n",
    "\\end{align}\n",
    " where $p(z|x, \\theta) = \\frac{p(x, z|\\theta)}{p(x|\\theta)}$ is our intractable true posterior. For that reason, we think of $q(z|x, \\lambda)$ as an *approximate posterior*. \n",
    " \n",
    " The approximate posterior is an independent model of the latent variable given the data, for that reason we also call it an *inference model*. \n",
    " In this notebook, our inference model will be a diagonal Gaussian, to make sure that we cover the sample space of our latent variable. A diagonal Gaussian models each component of the latent representation independently, and is an example of mean field (MF) inference:\n",
    " \n",
    " \\begin{align}\n",
    "    q(z|x, \\lambda) &\\overset{\\text{MF}}{=} \\prod_{d=1}^D \\mathcal N(z_d|\\mu_d(x; \\lambda); \\sigma_d(x; \\lambda)^2) \\\\\n",
    "    &= \\mathcal N(z|\\mu(x; \\lambda), \\text{diag}(\\sigma(x; \\lambda)^2))\n",
    " \\end{align}\n",
    " \n",
    " where we employ neural network architectures to map from the sentence $x$ to a vector of locations (in $\\mathbb R^D$) and a vector of scales (in $\\mathbb R^D_{>0}$).\n",
    " \n",
    " \n",
    "For this choice, the KL term in the ELBO is tractable:\n",
    "\n",
    "\\begin{align}\n",
    "\\text{KL}\\left(q(z|x, \\lambda)||p(z)\\right) &= \\sum_{d=1}^D \\text{KL}\\left(q(z_d|x, \\lambda)||p(z_d)\\right) \\\\\n",
    "&= \\sum_{d=1}^D \\text{KL}\\left(\\mathcal N(u_d, s^2)|| \\mathcal N(0,1)\\right) \\\\\n",
    "&= - \\frac{1}{2} \\sum_{d=1}^D \\left(1 + \\log s_d^2 - u_d^2 - s_d^2 \\right)\n",
    "\\end{align}\n",
    "where $u_d = \\mu_d(x; \\lambda)$ and $s_d = \\sigma_d(x; \\lambda)$.\n",
    "\n",
    " \n",
    "Here's an example design for our inference model:\n",
    "\n",
    "\\begin{align}\n",
    "\\mathbf x_i &= \\text{emb}(x_i; \\lambda_{\\text{emb}}) \\\\\n",
    "\\mathbf f_i &= \\text{rnn}(\\mathbf f_{i-1}, \\mathbf x_{i}; \\lambda_{\\text{fwd}}) \\\\\n",
    "\\mathbf b_i &= \\text{rnn}(\\mathbf b_{i+1}, \\mathbf x_{i}; \\lambda_{\\text{bwd}}) \\\\\n",
    "\\mathbf h &= \\text{dense}([\\mathbf f_{n}, \\mathbf b_1]; \\lambda_{\\text{hid}}) \\\\\n",
    "\\mu(x; \\lambda) &= \\text{dense}(\\mathbf h; \\lambda_{\\text{loc}})\\\\\n",
    "\\sigma(x; \\lambda) &= \\text{softplus}(\\text{dense}(\\mathbf h; \\lambda_{\\text{scale}}))\n",
    "\\end{align}\n",
    "\n",
    "where we use the $\\text{softplus}$ activation to make sure our scales are strictly positive. Note that $\\exp$ would also do that job, though $\\text{softplus}$ is assymptotically linear with its input, which gives us better gradient dynamics.\n",
    " \n",
    "Because we have neural networks compute the diagonal Gaussian parameters for us, we call this *amortised* mean field inference.\n",
    "\n"
   ]
  },
  {
   "cell_type": "markdown",
   "metadata": {
    "colab_type": "text",
    "id": "y8BTCCPVOKp_"
   },
   "source": [
    "### Gradient estimation\n",
    "\n",
    "We have to obtain gradients of the ELBO\n",
    "\n",
    "\\begin{align}\n",
    "\\nabla_\\theta  \\mathcal E(\\theta, \\lambda|x) &=  \\mathbb{E}_{q(z|x)}\\left[\\nabla_\\theta \\log P(x|z, \\theta)\\right] - \\underbrace{\\nabla_\\theta \\text{KL}\\left(q(z|x, \\lambda)||p(z)\\right)}_{=0}\n",
    "\\end{align}\n",
    "\n",
    "and \n",
    "\n",
    "\\begin{align}\n",
    "\\nabla_\\lambda  \\mathcal E(\\theta, \\lambda|x) &= \\nabla_\\lambda\\mathbb{E}_{q(z|x)}\\left[\\log P(x|z, \\theta)\\right] - \\nabla_\\lambda \\text{KL}\\left(q(z|x, \\lambda)||p(z)\\right)\n",
    "\\end{align}\n",
    "\n",
    "Clearly, the gradient for the generative network is easy to estimate using MC, but the gradient for the inference network is more complicated because we don't have an expected gradient, rather the gradient of an expected value.\n",
    "\n",
    "But recall, that we chose a Gaussian for approximate posterior, and Gaussians are what we call a location-scale family. Every Gaussian variable can be *re-expressed* or  **reparameterised** in terms of the standard Gaussian (a distribution with fixed parameters), that is:\n",
    "\n",
    "\\begin{align}\n",
    "\\epsilon = \\frac{z - \\mu(x; \\sigma)}{\\sigma(x; \\lambda)} &\\sim \\mathcal N(0, I) \\\\\n",
    "z = \\mu(x; \\lambda) + \\sigma(x;\\lambda) \\odot \\epsilon &\\sim \\mathcal N(\\mu(x; \\lambda), \\text{diag}(\\sigma(x; \\lambda)^2))\n",
    "\\end{align}\n",
    "\n",
    "where $\\epsilon$ is distributed by a $D$-dimensional standard Gaussian and $\\odot$ denotes elementwise multiplication.\n",
    "\n",
    "This means we can rewrite the ELBO as\n",
    "\n",
    "\\begin{align}\n",
    "\\mathcal E(\\theta, \\lambda|x) &= \\mathbb{E}_{\\epsilon \\sim \\mathcal N(0, I)}\\left[\\log P(x|z=\\mu(x; \\lambda) + \\sigma(x; \\lambda) \\odot \\epsilon, \\theta)\\right] - \\text{KL}\\left(q(z|x, \\lambda)||p(z)\\right) \n",
    "\\end{align}\n",
    "\n",
    "and though we could also rewrite the KL term, we will leave as is because it is tractable to compute.\n",
    "\n",
    "Now our gradients are both very simple:\n",
    "\n",
    "\\begin{align}\n",
    "\\nabla_\\theta \\mathcal E(\\theta, \\lambda|x) &= \\mathbb{E}_{\\epsilon \\sim \\mathcal N(0, I)}\\left[\\nabla_\\theta \\log P(x|z=\\mu(x; \\lambda) + \\sigma(x; \\lambda) \\odot \\epsilon, \\theta)\\right] - \\underbrace{\\nabla_\\theta \\text{KL}\\left(q(z|x, \\lambda)||p(z)\\right)}_{=0} \\\\\n",
    "&\\overset{\\text{MC}}{\\approx} \\frac{1}{S} \\sum_{s=1}^S \\nabla_\\theta \\log P(x|z^{(s)}, \\theta) \\\\\n",
    "&\\text{where }z^{(s)} = \\mu(x; \\lambda) + \\sigma(x; \\lambda) \\odot \\epsilon^{(s)}\\\\\n",
    "&\\text{and }\\epsilon^{(s)} \\sim \\mathcal N(0, I)\n",
    "\\end{align}\n",
    "\n",
    "and \n",
    "\n",
    "\\begin{align}\n",
    "\\nabla_\\lambda \\mathcal E(\\theta, \\lambda|x) &=\\nabla_\\lambda \\mathbb{E}_{\\epsilon \\sim \\mathcal N(0, I)}\\left[\\nabla_\\lambda \\log P(x|z=\\mu(x; \\lambda) + \\sigma(x; \\lambda) \\odot \\epsilon, \\theta)\\right] - \\nabla_\\lambda \\underbrace{\\text{KL}\\left(q(z|x, \\lambda)||p(z)\\right)}_{\\text{tractable}} \\\\\n",
    "&\\overset{\\text{MC}}{\\approx} \\left(\\frac{1}{S} \\sum_{s=1}^S \\nabla_\\lambda \\log P(x|z^{(s)}, \\theta)\\right) -  \\nabla_\\lambda \\underbrace{\\text{KL}\\left(q(z|x, \\lambda)||p(z)\\right)}_{\\text{tractable}}\\\\\n",
    "&\\text{where }z^{(s)} = \\mu(x; \\lambda) + \\sigma(x; \\lambda) \\odot \\epsilon^{(s)}\\\\\n",
    "&\\text{and }\\epsilon^{(s)} \\sim \\mathcal N(0, I)\n",
    "\\end{align}\n",
    "\n",
    "and note how both, but especially the second, use this notion of *reparameterised sample* to make all sources of stochasticity independent of the parameters of the network.\n",
    "\n",
    "Gradient estimates of this sort are known in the literature as *reparameterised gradients* and this makes our model an instance of what is known in the literature as a *variational auto-encoder* (VAE).\n",
    "\n"
   ]
  },
  {
   "cell_type": "markdown",
   "metadata": {
    "colab_type": "text",
    "id": "A6lhOGrkTNA3"
   },
   "source": [
    "\n",
    "# Implementation\n",
    "\n",
    "We start by implementing our generative model, which requires implementing a Gaussian/Normal distribution:\n",
    "\n",
    "Check the [wikipedia page about Normal distribution](https://en.wikipedia.org/wiki/Normal_distribution) for information such as the functional form of the pdf. \n",
    "\n",
    "You will need the KL divergence for univariate Normal distributions:\n",
    "\n",
    "\\begin{align}\n",
    "\\text{KL}\\left(\\mathcal N(\\mu_1, \\sigma_1^2) || \\mathcal N(\\mu_2, \\sigma_2^2)\\right)\n",
    "&= \\frac{1}{2 \\sigma_2^2} \\left((\\mu_1 - \\mu_2)^2 + \\sigma_1^2 - \\sigma_2^2\\right) + \\log \\frac{\\sigma_2}{\\sigma_1}\n",
    "\\end{align}\n",
    "\n",
    "\n"
   ]
  },
  {
   "cell_type": "code",
   "execution_count": 10,
   "metadata": {
    "colab": {},
    "colab_type": "code",
    "id": "7sjLx95wTcFr"
   },
   "outputs": [],
   "source": [
    "import numpy as np\n",
    "\n",
    "\n",
    "class Normal:\n",
    "    \"\"\"\n",
    "    This is a normal distribution\n",
    "        N(u, s^2)\n",
    "    thus specified by a location u and a strictly positive scale.\n",
    "    \n",
    "    This class can hold a collection of D independent Gaussian variables\n",
    "        by having a D-dimensional vector of locations and \n",
    "        a D-dimensinal vector of scales.        \n",
    "    \"\"\"\n",
    "    \n",
    "    def __init__(self, loc, scale):\n",
    "        \"\"\"\n",
    "        :param loc: a tensor of locations (real numbers)\n",
    "        :param scale: a tensor of scales (strictly positive real numbers)\n",
    "        \"\"\"\n",
    "        self.loc = loc\n",
    "        self.scale = scale\n",
    "    \n",
    "    def mean(self):\n",
    "        \"\"\"For Gaussians this is the location\"\"\"\n",
    "        return self.loc\n",
    "    \n",
    "    def std(self):\n",
    "        \"\"\"For Gaussians this is the scale\"\"\"\n",
    "        return self.scale\n",
    "    \n",
    "    def sample(self):\n",
    "        \"\"\"\n",
    "        Returns a reparameterised sample with the shape of the location parameter.\n",
    "        \"\"\"\n",
    "        epsilon = torch.randn_like(self.scale)\n",
    "        return self.loc + epsilon * self.scale\n",
    "    \n",
    "    def log_pdf(self, x):\n",
    "        \"\"\"\n",
    "        Assess the log probability density of x.\n",
    "        \n",
    "        :param x: a tensor of Gaussian samples (same shape as the location parameter)\n",
    "        :returns:  tensor of log probabilitie densities\n",
    "        \"\"\"\n",
    "        return -(((x - self.loc) ** 2) / (2 * (self.scale ** 2))) -0.5 * np.log(2 * np.pi) - torch.log(self.scale)\n",
    "    \n",
    "    def kl(self, other: 'Normal'):\n",
    "        \"\"\"\n",
    "        The KL divergence between two Gaussians\n",
    "        :returns: a tensor of KL values with the same shape as the parameters of self.\n",
    "        \"\"\"\n",
    "        return (1. / (2 * (other.scale**2))) * ((self.loc - other.loc)**2 + self.scale**2 - other.scale**2) + \\\n",
    "                torch.log(other.scale) - torch.log(self.scale)"
   ]
  },
  {
   "cell_type": "code",
   "execution_count": null,
   "metadata": {
    "colab": {},
    "colab_type": "code",
    "id": "XUqjJzdXYtMa"
   },
   "outputs": [],
   "source": []
  },
  {
   "cell_type": "code",
   "execution_count": 11,
   "metadata": {
    "colab": {},
    "colab_type": "code",
    "id": "izurBBZQScRx"
   },
   "outputs": [],
   "source": [
    "class InferenceModel(nn.Module):\n",
    "\n",
    "    def __init__(self, vocab_size, embedder, hidden_size,\n",
    "                 latent_size, pad_idx, bidirectional=False):\n",
    "        \"\"\"\n",
    "        :param vocab_size: size of the vocabulary of the language\n",
    "        :param embedder: embedding layer\n",
    "        :param hidden_size: size of recurrent cell\n",
    "        :param latent_size: size D of the latent variable\n",
    "        :param pad_idx: id of the -PAD- token\n",
    "        :param bidirectional: whether we condition on x via a bidirectional or \n",
    "          unidirectional encoder          \n",
    "        \"\"\"\n",
    "        super().__init__()\n",
    "        self.bidirectional = bidirectional\n",
    "        \n",
    "        # We borrow the embedder from the generative model, but we don't\n",
    "        # want tobackpropagate through it for the inference model. So we\n",
    "        # need to make sure to call detach on the embeddings later.\n",
    "        self.embedder = embedder\n",
    "        \n",
    "        # Create a (bidirectional) LSTM to encode x.\n",
    "        self.lstm = nn.LSTM(emb_size, hidden_size, batch_first=True, \n",
    "                            bidirectional=bidirectional)\n",
    "        \n",
    "        # The output of the LSTM doubles if we use a bidirectional encoder.\n",
    "        encoding_size = hidden_size * 2 if bidirectional else hidden_size\n",
    "        \n",
    "        # We can let features interact once more\n",
    "        self.combination_layer = nn.Linear(encoding_size, 2 * latent_size)\n",
    "        \n",
    "        # Create two affine layers to project the encoder final state to\n",
    "        # the mean and standard deviation of the diagonal Gaussian that\n",
    "        # we are predicting.\n",
    "        self.mu_layer = nn.Linear(2 * latent_size, latent_size)\n",
    "        self.sigma_layer = nn.Linear(2 * latent_size, latent_size)\n",
    "\n",
    "    def forward(self, x, seq_mask, seq_len) -> Normal:\n",
    "        \n",
    "        # Compute word embeddings and detach them so that no gradients\n",
    "        # from the infererence model flow through. That's done because\n",
    "        # this embedding layer was borrowed from the generative model\n",
    "        # thus its parameters a part of the set \\theta\n",
    "        x_embed = self.embedder(x).detach()\n",
    "        # Alternatively, we could have construct an independent embedding layer\n",
    "        # for the inference net, then its parameters would be part of the set\n",
    "        # \\lambda and we would allow updates \n",
    "        \n",
    "        # Encode the sentence using the LSTM.\n",
    "        hidden = None        \n",
    "        packed_seq = pack_padded_sequence(x_embed, seq_len, batch_first=True)\n",
    "        _, final = self.lstm(packed_seq, hidden)        \n",
    "\n",
    "        # Take the final output h_T from the LSTM, concatenate the forward\n",
    "        # and backward directions for the bidirectional case.\n",
    "        h_T = final[0]\n",
    "        if self.bidirectional:\n",
    "            h_T_fwd = h_T[0]\n",
    "            h_T_bwd = h_T[1]\n",
    "            h_T = torch.cat([h_T_fwd, h_T_bwd], dim=-1)\n",
    "        \n",
    "        # We make one more transformation \n",
    "        #  this allows a few more interactions between features\n",
    "        #  and if we have bidirectional features then the two \n",
    "        #  directions also interact\n",
    "        h_T = torch.tanh(self.combination_layer(h_T))\n",
    "\n",
    "        # Compute the mean and sigma of the diagonal Gaussian distribution.\n",
    "        # Use a softplus activation for the standard deviation to ensure it's\n",
    "        # positive.\n",
    "        mu = self.mu_layer(h_T)\n",
    "        sigma = F.softplus(self.sigma_layer(h_T))\n",
    "        \n",
    "        # Return the inferred Gaussian distribution q(z|x).\n",
    "        qz = Normal(mu, sigma)\n",
    "        return qz"
   ]
  },
  {
   "cell_type": "markdown",
   "metadata": {
    "colab_type": "text",
    "id": "53Aztjb5ScR2"
   },
   "source": [
    "Now we define the generative model:"
   ]
  },
  {
   "cell_type": "code",
   "execution_count": 12,
   "metadata": {
    "colab": {},
    "colab_type": "code",
    "id": "ObJ-Ag_5ScR4"
   },
   "outputs": [],
   "source": [
    "class BowmanLM(nn.Module):\n",
    "    \n",
    "    def __init__(self, vocab_size, emb_size, hidden_size, latent_size,\n",
    "                 pad_idx, dropout=0., bidirectional=False):\n",
    "        \"\"\"\n",
    "        :param vocab_size: size of the vocabulary of the language\n",
    "        :param emb_size: dimensionality of embeddings\n",
    "        :param hidden_size: dimensionality of recurrent cell\n",
    "        :param latent_size: this is D the dimensionality of the latent variable z\n",
    "        :param pad_idx: the id reserved to the -PAD- token\n",
    "        :param dropout: a dropout rate\n",
    "        :param bidirectional: ???\n",
    "        \"\"\"\n",
    "        super().__init__()\n",
    "        self.pad_idx = pad_idx\n",
    "        self.embedder = nn.Embedding(vocab_size, emb_size,\n",
    "                                     padding_idx=pad_idx)\n",
    "        self.lstm = nn.LSTM(emb_size, hidden_size, batch_first=True)\n",
    "        self.bridge = nn.Linear(latent_size, hidden_size)\n",
    "        self.projection = nn.Linear(hidden_size, vocab_size, bias=False)\n",
    "        self.dropout_layer = nn.Dropout(p=dropout)\n",
    "    \n",
    "    def init_hidden(self, z):\n",
    "        \"\"\"\n",
    "        Returns the hidden state of the LSTM initialized with a projection of a given z.\n",
    "        :param z: [B, D]\n",
    "        :returns: [B, D] hidden state, [B, D] cell state\n",
    "            \n",
    "        \"\"\"\n",
    "        h = self.bridge(z).unsqueeze(0)\n",
    "        c = self.bridge(z).unsqueeze(0)\n",
    "        return (h, c)\n",
    "    \n",
    "    def step(self, prev_x, z, hidden):\n",
    "        \"\"\"\n",
    "        Performs a single LSTM step for a given previous word and hidden state.\n",
    "        Returns the unnormalized probabilities over the vocabulary for this time step. \n",
    "        :param prev_x: [B] id of the previous token\n",
    "        :param z: [B, D] latent variable\n",
    "        :param hidden:  hidden ([B, H] state, [B, H] cell)\n",
    "        \"\"\"\n",
    "        x_embed = self.dropout_layer(self.embedder(prev_x))\n",
    "        output, hidden = self.lstm(x_embed, hidden)\n",
    "        scores = self.projection(self.dropout_layer(output))\n",
    "        return scores, hidden\n",
    "        \n",
    "    def forward(self, x, z):\n",
    "        \"\"\"\n",
    "        Performs an entire forward pass given a sequence of words x and a z.\n",
    "        :param x: [B, T] token ids \n",
    "        :param z: [B, D] a latent sample\n",
    "        \"\"\"\n",
    "        hidden = self.init_hidden(z)\n",
    "        outputs = []\n",
    "        for t in range(x.size(1)):\n",
    "            prev_x = x[:, t].unsqueeze(-1)\n",
    "            scores, hidden = self.step(prev_x, z, hidden)\n",
    "            outputs.append(scores)\n",
    "        return torch.cat(outputs, dim=1)\n",
    "        \n",
    "    def loss(self, scores, targets, pz, qz, free_nats=0., evaluation=False):\n",
    "        \"\"\"\n",
    "        Computes the loss given the scores (unnormalized probabilities), targets,\n",
    "        the prior distribution p(z), and the approximate posterior distribution q(z|x).\n",
    "        If free_nats is nonzero it will clamp the KL divergence between the posterior\n",
    "        and prior to that value, preventing gradient propagation via the KL if it's\n",
    "        below that value. If evaluation is set to true, the loss will be summed instead\n",
    "        of averaged over the batch. Returns the reconstruction loss and the KL. The loss\n",
    "        can be computed from those as loss = rec_loss - KL.\n",
    "        \"\"\"\n",
    "        \n",
    "        # Approximate E[log P(x|z)].\n",
    "        scores = scores.permute(0, 2, 1)\n",
    "        reconstruction_loss = F.cross_entropy(scores, targets, \n",
    "                                              ignore_index=self.pad_idx, \n",
    "                                              reduction=\"none\")\n",
    "        reconstruction_loss = reconstruction_loss.sum(dim=1)\n",
    "        \n",
    "        # Compute the KL divergence and clamp to at least the given amount of free nats.\n",
    "        KL = qz.kl(pz).sum(dim=1)\n",
    "        KL = torch.clamp(KL, min=free_nats)\n",
    "        \n",
    "        # For evaluation return the sum of individual components, for\n",
    "        # training return the mean of those components.\n",
    "        if evaluation:\n",
    "            return (reconstruction_loss.sum(), KL.sum())\n",
    "        else:\n",
    "            return (reconstruction_loss.mean(), KL.mean())"
   ]
  },
  {
   "cell_type": "markdown",
   "metadata": {
    "colab_type": "text",
    "id": "PLfa31jEScR7"
   },
   "source": [
    "# Evaluation metrics\n",
    "\n",
    "During training we'd like to keep track of some evaluation metrics on the validation data in order to keep track of how our model is doing and to perform early stopping. One simple metric we can compute is the ELBO on all the validation or test data using a single sample from the approximate posterior $q(z|x)$:"
   ]
  },
  {
   "cell_type": "code",
   "execution_count": 13,
   "metadata": {
    "colab": {},
    "colab_type": "code",
    "id": "URdX_JJ5ScR9"
   },
   "outputs": [],
   "source": [
    "def eval_elbo(model, inference_model, eval_dataset, vocab, device, batch_size=128):\n",
    "    \"\"\"\n",
    "    Computes a single sample estimate of the ELBO on a given dataset.\n",
    "    \"\"\"\n",
    "    dl = DataLoader(eval_dataset, batch_size=batch_size)\n",
    "    sorted_dl = SortingTextDataLoader(dl)\n",
    "    \n",
    "    # Make sure the model is in evaluation mode (i.e. disable dropout).\n",
    "    model.eval()\n",
    "            \n",
    "    total_rec_loss = 0.\n",
    "    total_KL = 0.\n",
    "    num_sentences = 0\n",
    "        \n",
    "    # We don't need to compute gradients for this.\n",
    "    with torch.no_grad():\n",
    "        for sentences in sorted_dl:    \n",
    "            x_in, x_out, seq_mask, seq_len = create_batch(sentences, vocab, device)\n",
    "            \n",
    "            # Infer the approximate posterior and construct the prior.\n",
    "            qz = inference_model(x_in, seq_mask, seq_len)\n",
    "            pz = Normal(torch.zeros_like(qz.mean()), \n",
    "                        torch.ones_like(qz.std()))\n",
    "            \n",
    "            # Compute the unnormalized probabilities using a single sample from the\n",
    "            # approximate posterior.\n",
    "            z = qz.sample()\n",
    "            scores = model(x_in, z)\n",
    "            \n",
    "            # Compute the reconstruction loss and KL divergence.\n",
    "            reconstruction_loss, KL = model.loss(scores, x_out, pz, qz,\n",
    "                                                 free_nats=0.,\n",
    "                                                 evaluation=True)\n",
    "            total_rec_loss += reconstruction_loss\n",
    "            total_KL += KL\n",
    "            num_sentences += x_in.size(0)\n",
    "\n",
    "    # Return the average reconstruction loss and KL.\n",
    "    avg_rec_loss = total_rec_loss / num_sentences\n",
    "    avg_KL = total_KL / num_sentences\n",
    "    return avg_rec_loss, avg_KL"
   ]
  },
  {
   "cell_type": "markdown",
   "metadata": {
    "colab_type": "text",
    "id": "tGO7RBYgScR_"
   },
   "source": [
    "A common metric to evaluate language models is the perplexity per word. The perplexity per word for a dataset is defined as:\n",
    "\n",
    "\\begin{align}\n",
    "    \\text{ppl}(\\mathcal{D}) = \\exp\\left(-\\frac{1}{\\sum_{k=1}^{|\\mathcal D|} n^{(k)}} \\sum_{k=1}^{|\\mathcal{D}|} \\log P(x^{(k)})\\right) \n",
    "\\end{align}\n",
    "\n",
    "where $n^{(k)} = |x^{(k)}|$ is the number of tokens in a sentence and $P(x^{(k)})$ is the probability that our model assigns to the datapoint $x^{(k)}$. In order to compute $\\log P(x)$ for our model we need to evaluate the integral:\n",
    "\n",
    "\\begin{align}\n",
    "    P(x) = \\int P(x|z) p(z) dz\n",
    "\\end{align}\n",
    "\n",
    "As this is an integral  cannot be compute in closed-form, we have two options: we can use the earlier derived lower-bound on the log-likelihood, which will give us an upper-bound on the perplexity, or we can make an importance sampling estimate using our approximate posterior distribution. The importance sampling (IS) estimate can be done as:\n",
    "\n",
    "\\begin{align}\n",
    "\\hat P(x) &\\overset{\\text{IS}}{\\approx} \\frac{1}{S} \\sum_{s=1}^{S} \\frac{p(z^{(s)})p(x|z^{(s)})}{q(z^{(s)}|x)} & \\text{where }z^{(s)} \\sim q(z|x)\n",
    "\\end{align}\n",
    "\n",
    "where $S$ is the number of samples.\n",
    "\n",
    "Then our perplexity becomes:\n",
    "\\begin{align}\n",
    "    &\\frac{1}{\\sum_{k=1}^{|\\mathcal D|} n^{(k)}}  \\sum_{k=1}^{|\\mathcal D|} \\log p(x^{(k)}) \\\\\n",
    "    &\\approx \\frac{1}{\\sum_{k=1}^{|\\mathcal D|} n^{(k)}}  \\sum_{k=1}^{|\\mathcal D|} \\log \\frac{1}{S} \\sum_{s=1}^{S} \\frac{p(z^{(s)})p(x^{(k)}|z^{(s)})}{q(z^{(s)}|x^{(k)})} \\\\\n",
    "\\end{align}\n",
    "\n",
    "We define the function `eval_perplexity` below that implements this importance sampling estimate:"
   ]
  },
  {
   "cell_type": "code",
   "execution_count": 14,
   "metadata": {
    "colab": {},
    "colab_type": "code",
    "id": "VnaIidkwScSA"
   },
   "outputs": [],
   "source": [
    "def eval_perplexity(model, inference_model, eval_dataset, vocab, device, \n",
    "                    n_samples, batch_size=128):\n",
    "    \"\"\"\n",
    "    Estimates the per-word perplexity using importance sampling with the\n",
    "    given number of samples.\n",
    "    \"\"\"\n",
    "    \n",
    "    dl = DataLoader(eval_dataset, batch_size=batch_size)\n",
    "    sorted_dl = SortingTextDataLoader(dl)\n",
    "    \n",
    "    # Make sure the model is in evaluation mode (i.e. disable dropout).\n",
    "    model.eval()\n",
    "    \n",
    "    log_px = 0.\n",
    "    num_predictions = 0\n",
    "    num_sentences = 0\n",
    "     \n",
    "    # We don't need to compute gradients for this.\n",
    "    with torch.no_grad():\n",
    "        for sentences in sorted_dl:\n",
    "            x_in, x_out, seq_mask, seq_len = create_batch(sentences, vocab, device)\n",
    "            \n",
    "            # Infer the approximate posterior and construct the prior.\n",
    "            qz = inference_model(x_in, seq_mask, seq_len)\n",
    "            pz = Normal(torch.zeros_like(qz.mean()), \n",
    "                        torch.ones_like(qz.std()))\n",
    "\n",
    "            # Create an array to hold all samples for this batch.\n",
    "            batch_size = x_in.size(0)\n",
    "            log_px_samples = torch.zeros(n_samples, batch_size)\n",
    "            \n",
    "            # Sample log P(x) n_samples times.\n",
    "            for s in range(n_samples):\n",
    "                \n",
    "                # Sample a z^s from the posterior.\n",
    "                z = qz.sample()\n",
    "                \n",
    "                # Compute log P(x^k|z^s)\n",
    "                scores = model(x_in, z)\n",
    "                cond_log_prob = F.log_softmax(scores, dim=-1)\n",
    "                cond_log_prob = torch.gather(cond_log_prob, 2, x_out.unsqueeze(-1)).squeeze() # B x T\n",
    "                cond_log_prob = (cond_log_prob * seq_mask.type_as(cond_log_prob)).sum(dim=1) # B\n",
    "                \n",
    "                # Compute log p(z^s) and log q(z^s|x^k)\n",
    "                prior_log_prob = pz.log_pdf(z).sum(dim=1) # B\n",
    "                posterior_log_prob = qz.log_pdf(z).sum(dim=1) # B\n",
    "                \n",
    "                # Store the sample for log P(x^k) importance weighted with p(z^s)/q(z^s|x^k).\n",
    "                log_px_sample = cond_log_prob + prior_log_prob - posterior_log_prob\n",
    "                log_px_samples[s] = log_px_sample\n",
    "                \n",
    "            # Average over the number of samples and count the number of predictions made this batch.\n",
    "            log_px_batch = torch.logsumexp(log_px_samples, dim=0) - \\\n",
    "                    torch.log(torch.Tensor([n_samples]))\n",
    "            log_px += log_px_batch.sum()\n",
    "            num_predictions += seq_len.sum()\n",
    "            num_sentences += seq_len.size(0)\n",
    "\n",
    "    # Compute and return the perplexity per word.\n",
    "    perplexity = torch.exp(-log_px / num_predictions)\n",
    "    NLL = -log_px / num_sentences\n",
    "    return perplexity, NLL"
   ]
  },
  {
   "cell_type": "markdown",
   "metadata": {
    "colab_type": "text",
    "id": "IvoVmedYScSC"
   },
   "source": [
    "Lastly, we want to occasionally qualitatively see the performance of the model during training, by letting it reconstruct a given sentence from the latent space. This gives us an idea of whether the model is using the latent space to encode some semantics about the data. For this we use a deterministic greedy decoding algorithm, that chooses the word with maximum probability at every time step, and feeds that word into the next time step."
   ]
  },
  {
   "cell_type": "code",
   "execution_count": 15,
   "metadata": {
    "colab": {},
    "colab_type": "code",
    "id": "LDD5XF1GScSC"
   },
   "outputs": [],
   "source": [
    "def greedy_decode(model, z, vocab, max_len=50):\n",
    "    \"\"\"\n",
    "    Greedily decodes a sentence from a given z, by picking the word with\n",
    "    maximum probability at each time step.\n",
    "    \"\"\"\n",
    "    \n",
    "    # Disable dropout.\n",
    "    model.eval()\n",
    "    \n",
    "    # Don't compute gradients.\n",
    "    with torch.no_grad():\n",
    "        batch_size = z.size(0)\n",
    "        \n",
    "        # We feed the model the start-of-sentence symbol at the first time step.\n",
    "        prev_x = torch.ones(batch_size, 1, dtype=torch.long).fill_(vocab[SOS_TOKEN]).to(z.device)\n",
    "        \n",
    "        # Initialize the hidden state from z.\n",
    "        hidden = model.init_hidden(z)\n",
    "\n",
    "        predictions = []    \n",
    "        for t in range(max_len):\n",
    "            scores, hidden = model.step(prev_x, z, hidden)\n",
    "            \n",
    "            # Choose the argmax of the unnnormalized probabilities as the\n",
    "            # prediction for this time step.\n",
    "            prediction = torch.argmax(scores, dim=-1)\n",
    "            predictions.append(prediction)\n",
    "            \n",
    "            prev_x = prediction.view(batch_size, 1)\n",
    "            \n",
    "        return torch.cat(predictions, dim=1)"
   ]
  },
  {
   "cell_type": "markdown",
   "metadata": {
    "colab_type": "text",
    "id": "GERuGgChScSE"
   },
   "source": [
    "# Training\n",
    "\n",
    "Now it's time to train the model. We use early stopping on the validation perplexity for model selection."
   ]
  },
  {
   "cell_type": "code",
   "execution_count": 1,
   "metadata": {
    "colab": {},
    "colab_type": "code",
    "id": "XH6ocHxaScSF"
   },
   "outputs": [
    {
     "ename": "NameError",
     "evalue": "name 'torch' is not defined",
     "output_type": "error",
     "traceback": [
      "\u001b[0;31m---------------------------------------------------------------------------\u001b[0m",
      "\u001b[0;31mNameError\u001b[0m                                 Traceback (most recent call last)",
      "\u001b[0;32m<ipython-input-1-a4cc405e2fc9>\u001b[0m in \u001b[0;36m<module>\u001b[0;34m\u001b[0m\n\u001b[1;32m     12\u001b[0m \u001b[0mnum_epochs\u001b[0m \u001b[0;34m=\u001b[0m \u001b[0;36m20\u001b[0m\u001b[0;34m\u001b[0m\u001b[0m\n\u001b[1;32m     13\u001b[0m \u001b[0mn_importance_samples\u001b[0m \u001b[0;34m=\u001b[0m \u001b[0;36m3\u001b[0m \u001b[0;31m# 50\u001b[0m\u001b[0;34m\u001b[0m\u001b[0m\n\u001b[0;32m---> 14\u001b[0;31m \u001b[0mdevice\u001b[0m \u001b[0;34m=\u001b[0m \u001b[0mtorch\u001b[0m\u001b[0;34m.\u001b[0m\u001b[0mdevice\u001b[0m\u001b[0;34m(\u001b[0m\u001b[0;34m\"cuda:0\"\u001b[0m\u001b[0;34m)\u001b[0m \u001b[0;32mif\u001b[0m \u001b[0mtorch\u001b[0m\u001b[0;34m.\u001b[0m\u001b[0mcuda\u001b[0m\u001b[0;34m.\u001b[0m\u001b[0mis_available\u001b[0m\u001b[0;34m(\u001b[0m\u001b[0;34m)\u001b[0m \u001b[0;32melse\u001b[0m \u001b[0mtorch\u001b[0m\u001b[0;34m.\u001b[0m\u001b[0mdevice\u001b[0m\u001b[0;34m(\u001b[0m\u001b[0;34m\"cpu\"\u001b[0m\u001b[0;34m)\u001b[0m\u001b[0;34m\u001b[0m\u001b[0m\n\u001b[0m\u001b[1;32m     15\u001b[0m \u001b[0;34m\u001b[0m\u001b[0m\n\u001b[1;32m     16\u001b[0m \u001b[0;31m# Create the training data loader.\u001b[0m\u001b[0;34m\u001b[0m\u001b[0;34m\u001b[0m\u001b[0m\n",
      "\u001b[0;31mNameError\u001b[0m: name 'torch' is not defined"
     ]
    }
   ],
   "source": [
    "# Define the model hyperparameters.\n",
    "emb_size = 256\n",
    "hidden_size = 256 \n",
    "latent_size = 16\n",
    "bidirectional_encoder = True\n",
    "free_nats = 5.\n",
    "annealing_steps = 11400\n",
    "dropout = 0.6\n",
    "word_dropout = 0.75\n",
    "batch_size = 64\n",
    "learning_rate = 0.001\n",
    "num_epochs = 20\n",
    "n_importance_samples = 3 # 50\n",
    "device = torch.device(\"cuda:0\") if torch.cuda.is_available() else torch.device(\"cpu\")   \n",
    "\n",
    "# Create the training data loader.\n",
    "dl = DataLoader(train_dataset, batch_size=batch_size, shuffle=True)\n",
    "sorted_dl = SortingTextDataLoader(dl)\n",
    "\n",
    "# Create the generative model.\n",
    "model = BowmanLM(vocab_size=vocab.size(), \n",
    "                 emb_size=emb_size, \n",
    "                 hidden_size=hidden_size, \n",
    "                 latent_size=latent_size, \n",
    "                 pad_idx=vocab[PAD_TOKEN],\n",
    "                 dropout=dropout,\n",
    "                 bidirectional=bidirectional_encoder)\n",
    "model = model.to(device)\n",
    "\n",
    "# Create the inference model.\n",
    "inference_model = InferenceModel(vocab_size=vocab.size(),\n",
    "                                 embedder=model.embedder,\n",
    "                                 hidden_size=hidden_size,\n",
    "                                 latent_size=latent_size,\n",
    "                                 pad_idx=vocab[PAD_TOKEN],\n",
    "                                 bidirectional=bidirectional_encoder)\n",
    "inference_model = inference_model.to(device)\n",
    "\n",
    "# Create the optimizer.\n",
    "optimizer = optim.Adam(model.parameters(), lr=learning_rate)\n",
    "\n",
    "# Save the best model (early stopping).\n",
    "best_model = \"./best_model.pt\"\n",
    "best_val_ppl = float(\"inf\")\n",
    "best_epoch = 0\n",
    "\n",
    "# Keep track of some statistics to plot later.\n",
    "train_ELBOs = []\n",
    "train_KLs = []\n",
    "val_ELBOs = []\n",
    "val_KLs = []\n",
    "val_perplexities = []\n",
    "val_NLLs = []\n",
    "\n",
    "step = 0\n",
    "training_ELBO = 0.\n",
    "training_KL = 0.\n",
    "num_batches = 0\n",
    "for epoch_num in range(1, num_epochs+1):    \n",
    "    for sentences in sorted_dl:\n",
    "\n",
    "        # Make sure the model is in training mode (for dropout).\n",
    "        model.train()\n",
    "\n",
    "        # Transform the sentences to input, output, seq_len, seq_mask batches.\n",
    "        x_in, x_out, seq_mask, seq_len = create_batch(sentences, vocab, device,\n",
    "                                                      word_dropout=word_dropout)\n",
    "\n",
    "        # Compute the multiplier for the KL term if we do annealing.\n",
    "        if annealing_steps > 0:\n",
    "            KL_weight = min(1., (1.0 / annealing_steps) * step)\n",
    "        else:\n",
    "            KL_weight = 1.\n",
    "        \n",
    "        # Do a forward pass through the model and compute the training loss. We use\n",
    "        # a reparameterized sample from the approximate posterior during training.\n",
    "        qz = inference_model(x_in, seq_mask, seq_len)\n",
    "        pz = Normal(torch.zeros_like(qz.mean()), \n",
    "                    torch.ones_like(qz.std()))\n",
    "        z = qz.sample()\n",
    "        scores = model(x_in, z)\n",
    "        rec_loss, KL = model.loss(scores, x_out, pz, qz, free_nats=free_nats)\n",
    "        loss = rec_loss + KL_weight * KL\n",
    "\n",
    "        # Backpropagate and update the model weights.\n",
    "        loss.backward()\n",
    "        optimizer.step()\n",
    "        optimizer.zero_grad()\n",
    "\n",
    "        # Update some statistics to track for the training loss.\n",
    "        training_ELBO += -(rec_loss - KL)\n",
    "        training_KL += KL\n",
    "        num_batches += 1\n",
    "        \n",
    "        # Every 100 steps we evaluate the model and report progress.\n",
    "        if step % 100 == 0:\n",
    "            val_rec_loss, val_KL = eval_elbo(model, inference_model, val_dataset, vocab, device)\n",
    "            val_ELBO = -(val_rec_loss - val_KL)\n",
    "            print(\"(%d) step %d: training ELBO (KL) = %.2f (%.2f) --\"\n",
    "                  \" KL weight = %.2f --\"\n",
    "                  \" validation ELBO (KL) = %.2f (%.2f)\" % \n",
    "                  (epoch_num, step, training_ELBO/num_batches, \n",
    "                   training_KL/num_batches, KL_weight, val_ELBO, val_KL))\n",
    "            \n",
    "            # Update some statistics for plotting later.\n",
    "            train_ELBOs.append((step, (training_ELBO/num_batches).item()))\n",
    "            train_KLs.append((step, (training_KL/num_batches).item()))\n",
    "            val_ELBOs.append((step, val_ELBO.item()))\n",
    "            val_KLs.append((step, val_KL.item()))\n",
    "            \n",
    "            # Reset the training statistics.\n",
    "            training_ELBO = 0.\n",
    "            training_KL = 0.\n",
    "            num_batches = 0\n",
    "            \n",
    "        step += 1\n",
    "\n",
    "    # After an epoch we'll compute validation perplexity and save the model\n",
    "    # for early stopping if it's better than previous models.\n",
    "    print(\"Finished epoch %d\" % (epoch_num))\n",
    "    val_perplexity, val_NLL = eval_perplexity(model, inference_model, val_dataset, vocab, device, \n",
    "                                              n_importance_samples)\n",
    "    val_rec_loss, val_KL = eval_elbo(model, inference_model, val_dataset, vocab, device)\n",
    "    val_ELBO = -(val_rec_loss - val_KL)\n",
    "    \n",
    "    # Keep track of the validation perplexities / NLL.\n",
    "    val_perplexities.append((epoch_num, val_perplexity.item()))\n",
    "    val_NLLs.append((epoch_num, val_NLL.item()))\n",
    "    \n",
    "    # If validation perplexity is better, store this model for early stopping.\n",
    "    if val_perplexity < best_val_ppl:\n",
    "        best_val_ppl = val_perplexity\n",
    "        best_epoch = epoch_num\n",
    "        torch.save(model.state_dict(), best_model)\n",
    "        \n",
    "    # Print epoch statistics.\n",
    "    print(\"Evaluation epoch %d:\\n\"\n",
    "          \" - validation perplexity: %.2f\\n\"\n",
    "          \" - validation NLL: %.2f\\n\"\n",
    "          \" - validation ELBO (KL) = %.2f (%.2f)\"\n",
    "          % (epoch_num, val_perplexity, val_NLL, val_ELBO, val_KL))\n",
    "\n",
    "    # Also show some qualitative results by reconstructing a sentence from the\n",
    "    # validation data. Use the mean of the approximate posterior and greedy\n",
    "    # decoding.\n",
    "    random_sentence = val_dataset[np.random.choice(len(val_dataset))]\n",
    "    x_in, _, seq_mask, seq_len = create_batch([random_sentence], vocab, device)\n",
    "    qz = inference_model(x_in, seq_mask, seq_len)\n",
    "    z = qz.mean()\n",
    "    reconstruction = greedy_decode(model, z, vocab)\n",
    "    reconstruction = batch_to_sentences(reconstruction, vocab)[0]\n",
    "    print(\"-- Original sentence: \\\"%s\\\"\" % random_sentence)\n",
    "    print(\"-- Model reconstruction: \\\"%s\\\"\" % reconstruction)"
   ]
  },
  {
   "cell_type": "markdown",
   "metadata": {
    "colab_type": "text",
    "id": "h2GpYHvqScSK"
   },
   "source": [
    "# Let's plot the training and validation statistics:"
   ]
  },
  {
   "cell_type": "code",
   "execution_count": 19,
   "metadata": {
    "colab": {},
    "colab_type": "code",
    "id": "IYnp8E4MScSL"
   },
   "outputs": [
    {
     "data": {
      "image/png": "[encoded data removed]",
      "text/plain": [
       "<Figure size 1296x360 with 2 Axes>"
      ]
     },
     "metadata": {
      "needs_background": "light"
     },
     "output_type": "display_data"
    },
    {
     "data": {
      "image/png": "[encoded data removed]",
      "text/plain": [
       "<Figure size 1296x360 with 2 Axes>"
      ]
     },
     "metadata": {
      "needs_background": "light"
     },
     "output_type": "display_data"
    },
    {
     "data": {
      "image/png": "[encoded data removed]",
      "text/plain": [
       "<Figure size 1296x360 with 2 Axes>"
      ]
     },
     "metadata": {
      "needs_background": "light"
     },
     "output_type": "display_data"
    },
    {
     "name": "stdout",
     "output_type": "stream",
     "text": [
      "\n"
     ]
    }
   ],
   "source": [
    "steps, training_ELBO = list(zip(*train_ELBOs))\n",
    "_, training_KL = list(zip(*train_KLs))\n",
    "_, val_ELBO = list(zip(*val_ELBOs))\n",
    "_, val_KL = list(zip(*val_KLs))\n",
    "epochs, val_ppl = list(zip(*val_perplexities))\n",
    "_, val_NLL = list(zip(*val_NLLs))\n",
    "\n",
    "fig, (ax1, ax2) = plt.subplots(1, 2, figsize=(18, 5))\n",
    "\n",
    "# Plot training ELBO and KL\n",
    "ax1.set_title(\"Training ELBO\")\n",
    "ax1.plot(steps, training_ELBO, \"-o\")\n",
    "ax2.set_title(\"Training KL\")\n",
    "ax2.plot(steps, training_KL, \"-o\")\n",
    "plt.show()\n",
    "\n",
    "# Plot validation ELBO and KL\n",
    "fig, (ax1, ax2) = plt.subplots(1, 2, figsize=(18, 5))\n",
    "ax1.set_title(\"Validation ELBO\")\n",
    "ax1.plot(steps, val_ELBO, \"-o\", color=\"orange\")\n",
    "ax2.set_title(\"Validation KL\")\n",
    "ax2.plot(steps, val_KL, \"-o\",  color=\"orange\")\n",
    "plt.show()\n",
    "\n",
    "# Plot validation perplexities.\n",
    "fig, (ax1, ax2) = plt.subplots(1, 2, figsize=(18, 5))\n",
    "ax1.set_title(\"Validation perplexity\")\n",
    "ax1.plot(epochs, val_ppl, \"-o\", color=\"orange\")\n",
    "ax2.set_title(\"Validation NLL\")\n",
    "ax2.plot(epochs, val_NLL, \"-o\",  color=\"orange\")\n",
    "plt.show()\n",
    "print()"
   ]
  },
  {
   "cell_type": "markdown",
   "metadata": {
    "colab_type": "text",
    "id": "AF4L6yyKScSP"
   },
   "source": [
    "Let's load the best model according to validation perplexity and compute its perplexity on the test data:"
   ]
  },
  {
   "cell_type": "code",
   "execution_count": 2,
   "metadata": {
    "colab": {},
    "colab_type": "code",
    "id": "K25svlmSScSQ"
   },
   "outputs": [
    {
     "ename": "NameError",
     "evalue": "name 'BowmanLM' is not defined",
     "output_type": "error",
     "traceback": [
      "\u001b[0;31m---------------------------------------------------------------------------\u001b[0m",
      "\u001b[0;31mNameError\u001b[0m                                 Traceback (most recent call last)",
      "\u001b[0;32m<ipython-input-2-435cec2753bc>\u001b[0m in \u001b[0;36m<module>\u001b[0;34m\u001b[0m\n\u001b[1;32m      1\u001b[0m \u001b[0;31m# Load the best model from disk.\u001b[0m\u001b[0;34m\u001b[0m\u001b[0;34m\u001b[0m\u001b[0m\n\u001b[0;32m----> 2\u001b[0;31m model = BowmanLM(vocab_size=vocab.size(), \n\u001b[0m\u001b[1;32m      3\u001b[0m                  \u001b[0memb_size\u001b[0m\u001b[0;34m=\u001b[0m\u001b[0memb_size\u001b[0m\u001b[0;34m,\u001b[0m\u001b[0;34m\u001b[0m\u001b[0m\n\u001b[1;32m      4\u001b[0m                  \u001b[0mhidden_size\u001b[0m\u001b[0;34m=\u001b[0m\u001b[0mhidden_size\u001b[0m\u001b[0;34m,\u001b[0m\u001b[0;34m\u001b[0m\u001b[0m\n\u001b[1;32m      5\u001b[0m                  \u001b[0mlatent_size\u001b[0m\u001b[0;34m=\u001b[0m\u001b[0mlatent_size\u001b[0m\u001b[0;34m,\u001b[0m\u001b[0;34m\u001b[0m\u001b[0m\n",
      "\u001b[0;31mNameError\u001b[0m: name 'BowmanLM' is not defined"
     ]
    }
   ],
   "source": [
    "# Load the best model from disk.\n",
    "model = BowmanLM(vocab_size=vocab.size(), \n",
    "                 emb_size=emb_size, \n",
    "                 hidden_size=hidden_size, \n",
    "                 latent_size=latent_size, \n",
    "                 pad_idx=vocab[PAD_TOKEN],\n",
    "                 dropout=dropout,\n",
    "                 bidirectional=bidirectional_encoder)\n",
    "model.load_state_dict(torch.load(best_model))\n",
    "model = model.to(device)\n",
    "\n",
    "# Compute test perplexity and ELBO.\n",
    "test_perplexity, test_NLL = eval_perplexity(model, inference_model, test_dataset, vocab, \n",
    "                                            device, n_importance_samples)\n",
    "test_rec_loss, test_KL = eval_elbo(model, inference_model, test_dataset, vocab, device)\n",
    "test_ELBO = test_rec_loss - test_KL\n",
    "print(\"test ELBO (KL) = %.2f (%.2f) -- test perplexity = %.2f -- test NLL = %.2f\" % \n",
    "      (test_ELBO, test_KL, test_perplexity, test_NLL))"
   ]
  },
  {
   "cell_type": "markdown",
   "metadata": {
    "colab_type": "text",
    "id": "DlxoPIa_ScSS"
   },
   "source": [
    "# Qualitative analysis\n",
    "\n",
    "Let's have a look at what how our trained model interacts with the learned latent space. First let's greedily decode some samples from the prior to assess the diversity of the model:"
   ]
  },
  {
   "cell_type": "code",
   "execution_count": null,
   "metadata": {
    "colab": {},
    "colab_type": "code",
    "id": "1x9siL9aScST"
   },
   "outputs": [],
   "source": [
    "# Generate 10 samples from the standard normal prior.\n",
    "num_prior_samples = 10\n",
    "pz = Normal(torch.zeros(num_prior_samples, latent_size), \n",
    "            torch.ones(num_prior_samples, latent_size))\n",
    "z = pz.sample()\n",
    "z = z.to(device)\n",
    "\n",
    "# Use the greedy decoding algorithm to generate sentences.\n",
    "predictions = greedy_decode(model, z, vocab)\n",
    "predictions = batch_to_sentences(predictions, vocab)\n",
    "for num, prediction in enumerate(predictions):\n",
    "    print(\"%d: %s\" % (num+1, prediction))"
   ]
  },
  {
   "cell_type": "markdown",
   "metadata": {
    "colab_type": "text",
    "id": "O7T4hLydScSV"
   },
   "source": [
    "Let's now have a look how good the model is at reconstructing sentences from the test dataset using the approximate posterior mean and a couple of samples:"
   ]
  },
  {
   "cell_type": "code",
   "execution_count": null,
   "metadata": {
    "colab": {},
    "colab_type": "code",
    "id": "6fi-g4ASScSW"
   },
   "outputs": [],
   "source": [
    "# Pick a random test sentence.\n",
    "test_sentence = test_dataset[np.random.choice(len(test_dataset))]\n",
    "\n",
    "# Infer q(z|x).\n",
    "x_in, _, seq_mask, seq_len = create_batch([test_sentence], vocab, device)\n",
    "qz = inference_model(x_in, seq_mask, seq_len)\n",
    "\n",
    "# Decode using the mean.\n",
    "z_mean = qz.mean()\n",
    "mean_reconstruction = greedy_decode(model, z_mean, vocab)\n",
    "mean_reconstruction = batch_to_sentences(mean_reconstruction, vocab)[0]\n",
    "\n",
    "print(\"Original: \\\"%s\\\"\" % test_sentence)\n",
    "print(\"Posterior mean reconstruction: \\\"%s\\\"\" % mean_reconstruction)\n",
    "\n",
    "# Decode a couple of samples from the approximate posterior.\n",
    "for s in range(3):\n",
    "    z = qz.sample()\n",
    "    sample_reconstruction = greedy_decode(model, z, vocab)\n",
    "    sample_reconstruction = batch_to_sentences(sample_reconstruction, vocab)[0]\n",
    "    print(\"Posterior sample reconstruction (%d): \\\"%s\\\"\" % (s+1, sample_reconstruction))"
   ]
  },
  {
   "cell_type": "markdown",
   "metadata": {
    "colab_type": "text",
    "id": "fi0THhQ5ScSZ"
   },
   "source": [
    "We can also qualitatively assess the smoothness of the learned latent space by interpolating between two sentences in the test set:"
   ]
  },
  {
   "cell_type": "code",
   "execution_count": 21,
   "metadata": {
    "colab": {},
    "colab_type": "code",
    "id": "y8Ai6FxnScSZ"
   },
   "outputs": [
    {
     "name": "stdout",
     "output_type": "stream",
     "text": [
      "Sentence 1: \"No one can predict exactly what will happen on the House side said Senate Minority Leader Robert Dole R. Kan\"\n",
      "(1-0.00) * qz1.mean + 0.00 qz2.mean: \"The company said it will be able to be a lot of the company 's largest million of the company 's shares outstanding\"\n",
      "(1-0.25) * qz1.mean + 0.25 qz2.mean: \"The company said it will be able to be a lot of the company 's largest million of the company 's shares outstanding\"\n",
      "(1-0.50) * qz1.mean + 0.50 qz2.mean: \"The company said it will be able to be a lot of the company 's largest million of the company 's shares outstanding\"\n",
      "(1-0.75) * qz1.mean + 0.75 qz2.mean: \"The company said it will be able to be a lot of the company 's largest million of the company 's shares outstanding\"\n",
      "(1-1.00) * qz1.mean + 1.00 qz2.mean: \"The company said it will be able to be a lot of the company 's largest million of the company 's shares outstanding\"\n",
      "Sentence 2: \"Boeing 's shares fell 4 Friday to close at 57.375 in composite trading on the New York Stock Exchange\"\n"
     ]
    }
   ],
   "source": [
    "# Pick a random test sentence.\n",
    "test_sentence_1 = test_dataset[np.random.choice(len(test_dataset))]\n",
    "\n",
    "# Infer q(z|x).\n",
    "x_in, _, seq_mask, seq_len = create_batch([test_sentence_1], vocab, device)\n",
    "qz = inference_model(x_in, seq_mask, seq_len)\n",
    "qz_1 = qz.mean()\n",
    "\n",
    "# Pick a random second test sentence.\n",
    "test_sentence_2 = test_dataset[np.random.choice(len(test_dataset))]\n",
    "\n",
    "# Infer q(z|x) again.\n",
    "x_in, _, seq_mask, seq_len = create_batch([test_sentence_2], vocab, device)\n",
    "qz = inference_model(x_in, seq_mask, seq_len)\n",
    "qz_2 = qz.mean()\n",
    "\n",
    "# Now interpolate between the two means and generate sentences between those.\n",
    "num_sentences = 5\n",
    "print(\"Sentence 1: \\\"%s\\\"\" % test_sentence_1)\n",
    "for alpha in np.linspace(start=0., stop=1., num=num_sentences):\n",
    "    z = (1-alpha) * qz_1 + alpha * qz_2\n",
    "    reconstruction = greedy_decode(model, z, vocab)\n",
    "    reconstruction = batch_to_sentences(reconstruction, vocab)[0]\n",
    "    print(\"(1-%.2f) * qz1.mean + %.2f qz2.mean: \\\"%s\\\"\" % (alpha, alpha, reconstruction))\n",
    "print(\"Sentence 2: \\\"%s\\\"\" % test_sentence_2)"
   ]
  },
  {
   "cell_type": "code",
   "execution_count": 0,
   "metadata": {
    "colab": {},
    "colab_type": "code",
    "id": "C_dLVVbiScSd"
   },
   "outputs": [],
   "source": []
  }
 ],
 "metadata": {
  "colab": {
   "include_colab_link": true,
   "name": "SentVAE_Solutions.ipynb",
   "provenance": [],
   "version": "0.3.2"
  },
  "kernelspec": {
   "display_name": "Python 3",
   "language": "python",
   "name": "python3"
  },
  "language_info": {
   "codemirror_mode": {
    "name": "ipython",
    "version": 3
   },
   "file_extension": ".py",
   "mimetype": "text/x-python",
   "name": "python",
   "nbconvert_exporter": "python",
   "pygments_lexer": "ipython3",
   "version": "3.7.0"
  }
 },
 "nbformat": 4,
 "nbformat_minor": 1
}
